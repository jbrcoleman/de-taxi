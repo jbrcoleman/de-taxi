{
 "cells": [
  {
   "cell_type": "code",
   "execution_count": 9,
   "id": "6febc467",
   "metadata": {},
   "outputs": [],
   "source": [
    "import pyspark\n",
    "from pyspark.sql import SparkSession\n",
    "import pandas as pd\n",
    "from pyspark.sql import types\n",
    "from pyspark.sql import functions as F"
   ]
  },
  {
   "cell_type": "code",
   "execution_count": 3,
   "id": "789c8993",
   "metadata": {},
   "outputs": [
    {
     "name": "stderr",
     "output_type": "stream",
     "text": [
      "Setting default log level to \"WARN\".\n",
      "To adjust logging level use sc.setLogLevel(newLevel). For SparkR, use setLogLevel(newLevel).\n"
     ]
    },
    {
     "name": "stdout",
     "output_type": "stream",
     "text": [
      "22/11/01 05:11:11 WARN NativeCodeLoader: Unable to load native-hadoop library for your platform... using builtin-java classes where applicable\n"
     ]
    }
   ],
   "source": [
    "spark = SparkSession.builder \\\n",
    "    .master(\"local[*]\") \\\n",
    "    .appName('test') \\\n",
    "    .getOrCreate()"
   ]
  },
  {
   "cell_type": "code",
   "execution_count": 3,
   "id": "163e1f6f",
   "metadata": {},
   "outputs": [
    {
     "name": "stdout",
     "output_type": "stream",
     "text": [
      "--2022-10-27 05:17:09--  https://d37ci6vzurychx.cloudfront.net/trip-data/fhvhv_tripdata_2021-01.parquet\n",
      "Resolving d37ci6vzurychx.cloudfront.net (d37ci6vzurychx.cloudfront.net)... 18.164.55.59, 18.164.55.125, 18.164.55.165, ...\n",
      "Connecting to d37ci6vzurychx.cloudfront.net (d37ci6vzurychx.cloudfront.net)|18.164.55.59|:443... connected.\n",
      "HTTP request sent, awaiting response... 200 OK\n",
      "Length: 308924937 (295M) [application/x-www-form-urlencoded]\n",
      "Saving to: ‘fhvhv_tripdata_2021-01.parquet.1’\n",
      "\n",
      "fhvhv_tripdata_2021 100%[===================>] 294.61M   147MB/s    in 2.0s    \n",
      "\n",
      "2022-10-27 05:17:12 (147 MB/s) - ‘fhvhv_tripdata_2021-01.parquet.1’ saved [308924937/308924937]\n",
      "\n"
     ]
    }
   ],
   "source": [
    "!wget https://d37ci6vzurychx.cloudfront.net/trip-data/fhvhv_tripdata_2021-01.parquet"
   ]
  },
  {
   "cell_type": "code",
   "execution_count": 4,
   "id": "7becf955",
   "metadata": {},
   "outputs": [
    {
     "name": "stdout",
     "output_type": "stream",
     "text": [
      "1006794 fhvhv_tripdata_2021-01.parquet\r\n"
     ]
    }
   ],
   "source": [
    "!wc -l fhvhv_tripdata_2021-01.parquet"
   ]
  },
  {
   "cell_type": "code",
   "execution_count": 3,
   "id": "0aa8ca33",
   "metadata": {},
   "outputs": [
    {
     "name": "stderr",
     "output_type": "stream",
     "text": [
      "                                                                                \r"
     ]
    }
   ],
   "source": [
    "df = spark.read \\\n",
    "    .option(\"header\", \"true\") \\\n",
    "    .parquet('fhvhv_tripdata_2021-01.parquet')"
   ]
  },
  {
   "cell_type": "code",
   "execution_count": 4,
   "id": "767bab54",
   "metadata": {},
   "outputs": [
    {
     "data": {
      "text/plain": [
       "StructType([StructField('hvfhs_license_num', StringType(), True), StructField('dispatching_base_num', StringType(), True), StructField('originating_base_num', StringType(), True), StructField('request_datetime', TimestampType(), True), StructField('on_scene_datetime', TimestampType(), True), StructField('pickup_datetime', TimestampType(), True), StructField('dropoff_datetime', TimestampType(), True), StructField('PULocationID', LongType(), True), StructField('DOLocationID', LongType(), True), StructField('trip_miles', DoubleType(), True), StructField('trip_time', LongType(), True), StructField('base_passenger_fare', DoubleType(), True), StructField('tolls', DoubleType(), True), StructField('bcf', DoubleType(), True), StructField('sales_tax', DoubleType(), True), StructField('congestion_surcharge', DoubleType(), True), StructField('airport_fee', DoubleType(), True), StructField('tips', DoubleType(), True), StructField('driver_pay', DoubleType(), True), StructField('shared_request_flag', StringType(), True), StructField('shared_match_flag', StringType(), True), StructField('access_a_ride_flag', StringType(), True), StructField('wav_request_flag', StringType(), True), StructField('wav_match_flag', StringType(), True)])"
      ]
     },
     "execution_count": 4,
     "metadata": {},
     "output_type": "execute_result"
    }
   ],
   "source": [
    "df.schema"
   ]
  },
  {
   "cell_type": "code",
   "execution_count": 5,
   "id": "5018199a",
   "metadata": {},
   "outputs": [
    {
     "data": {
      "text/plain": [
       "[('hvfhs_license_num', 'string'),\n",
       " ('dispatching_base_num', 'string'),\n",
       " ('originating_base_num', 'string'),\n",
       " ('request_datetime', 'timestamp'),\n",
       " ('on_scene_datetime', 'timestamp'),\n",
       " ('pickup_datetime', 'timestamp'),\n",
       " ('dropoff_datetime', 'timestamp'),\n",
       " ('PULocationID', 'bigint'),\n",
       " ('DOLocationID', 'bigint'),\n",
       " ('trip_miles', 'double'),\n",
       " ('trip_time', 'bigint'),\n",
       " ('base_passenger_fare', 'double'),\n",
       " ('tolls', 'double'),\n",
       " ('bcf', 'double'),\n",
       " ('sales_tax', 'double'),\n",
       " ('congestion_surcharge', 'double'),\n",
       " ('airport_fee', 'double'),\n",
       " ('tips', 'double'),\n",
       " ('driver_pay', 'double'),\n",
       " ('shared_request_flag', 'string'),\n",
       " ('shared_match_flag', 'string'),\n",
       " ('access_a_ride_flag', 'string'),\n",
       " ('wav_request_flag', 'string'),\n",
       " ('wav_match_flag', 'string')]"
      ]
     },
     "execution_count": 5,
     "metadata": {},
     "output_type": "execute_result"
    }
   ],
   "source": [
    "df.dtypes"
   ]
  },
  {
   "cell_type": "code",
   "execution_count": 26,
   "id": "085591c6",
   "metadata": {},
   "outputs": [],
   "source": [
    "schema = types.StructType([\n",
    "    types.StructField('hvfhs_license_num', types.StringType(), True),\n",
    "    types.StructField('dispatching_base_num', types.StringType(), True),\n",
    "    types.StructField('pickup_datetime', types.TimestampType(), True),\n",
    "    types.StructField('dropoff_datetime', types.TimestampType(), True),\n",
    "    types.StructField('PULocationID', types.LongType(), True),\n",
    "    types.StructField('DOLocationID', types.LongType(), True),\n",
    "    types.StructField('SR_Flag', types.StringType(), True)\n",
    "])"
   ]
  },
  {
   "cell_type": "code",
   "execution_count": 27,
   "id": "ba30ee6c",
   "metadata": {},
   "outputs": [],
   "source": [
    "df = spark.read \\\n",
    "    .option(\"header\", \"true\") \\\n",
    "    .schema(schema) \\\n",
    "    .parquet('fhvhv_tripdata_2021-01.parquet')"
   ]
  },
  {
   "cell_type": "code",
   "execution_count": 28,
   "id": "867e9c20",
   "metadata": {},
   "outputs": [
    {
     "data": {
      "text/plain": [
       "[Row(hvfhs_license_num='HV0003', dispatching_base_num='B02682', pickup_datetime=datetime.datetime(2021, 1, 1, 0, 33, 44), dropoff_datetime=datetime.datetime(2021, 1, 1, 0, 49, 7), PULocationID=230, DOLocationID=166, SR_Flag=None),\n",
       " Row(hvfhs_license_num='HV0003', dispatching_base_num='B02682', pickup_datetime=datetime.datetime(2021, 1, 1, 0, 55, 19), dropoff_datetime=datetime.datetime(2021, 1, 1, 1, 18, 21), PULocationID=152, DOLocationID=167, SR_Flag=None),\n",
       " Row(hvfhs_license_num='HV0003', dispatching_base_num='B02764', pickup_datetime=datetime.datetime(2021, 1, 1, 0, 23, 56), dropoff_datetime=datetime.datetime(2021, 1, 1, 0, 38, 5), PULocationID=233, DOLocationID=142, SR_Flag=None),\n",
       " Row(hvfhs_license_num='HV0003', dispatching_base_num='B02764', pickup_datetime=datetime.datetime(2021, 1, 1, 0, 42, 51), dropoff_datetime=datetime.datetime(2021, 1, 1, 0, 45, 50), PULocationID=142, DOLocationID=143, SR_Flag=None),\n",
       " Row(hvfhs_license_num='HV0003', dispatching_base_num='B02764', pickup_datetime=datetime.datetime(2021, 1, 1, 0, 48, 14), dropoff_datetime=datetime.datetime(2021, 1, 1, 1, 8, 42), PULocationID=143, DOLocationID=78, SR_Flag=None),\n",
       " Row(hvfhs_license_num='HV0005', dispatching_base_num='B02510', pickup_datetime=datetime.datetime(2021, 1, 1, 0, 6, 59), dropoff_datetime=datetime.datetime(2021, 1, 1, 0, 43, 1), PULocationID=88, DOLocationID=42, SR_Flag=None),\n",
       " Row(hvfhs_license_num='HV0005', dispatching_base_num='B02510', pickup_datetime=datetime.datetime(2021, 1, 1, 0, 50), dropoff_datetime=datetime.datetime(2021, 1, 1, 1, 4, 57), PULocationID=42, DOLocationID=151, SR_Flag=None),\n",
       " Row(hvfhs_license_num='HV0003', dispatching_base_num='B02764', pickup_datetime=datetime.datetime(2021, 1, 1, 0, 14, 30), dropoff_datetime=datetime.datetime(2021, 1, 1, 0, 50, 27), PULocationID=71, DOLocationID=226, SR_Flag=None),\n",
       " Row(hvfhs_license_num='HV0003', dispatching_base_num='B02875', pickup_datetime=datetime.datetime(2021, 1, 1, 0, 22, 54), dropoff_datetime=datetime.datetime(2021, 1, 1, 0, 30, 20), PULocationID=112, DOLocationID=255, SR_Flag=None),\n",
       " Row(hvfhs_license_num='HV0003', dispatching_base_num='B02875', pickup_datetime=datetime.datetime(2021, 1, 1, 0, 40, 12), dropoff_datetime=datetime.datetime(2021, 1, 1, 0, 53, 31), PULocationID=255, DOLocationID=232, SR_Flag=None)]"
      ]
     },
     "execution_count": 28,
     "metadata": {},
     "output_type": "execute_result"
    }
   ],
   "source": [
    "df.head(10)"
   ]
  },
  {
   "cell_type": "code",
   "execution_count": 31,
   "id": "21e98e2b",
   "metadata": {},
   "outputs": [],
   "source": [
    "df = df.repartition(24)"
   ]
  },
  {
   "cell_type": "code",
   "execution_count": 32,
   "id": "72d9d162",
   "metadata": {},
   "outputs": [
    {
     "name": "stderr",
     "output_type": "stream",
     "text": [
      "                                                                                \r"
     ]
    }
   ],
   "source": [
    "df.write.parquet('fhvhv/2021/01/')"
   ]
  },
  {
   "cell_type": "code",
   "execution_count": 33,
   "id": "bd3ec533",
   "metadata": {},
   "outputs": [
    {
     "name": "stdout",
     "output_type": "stream",
     "text": [
      "total 226M\r\n",
      "-rw-r--r-- 1 dataengineeringcampjbc dataengineeringcampjbc    0 Oct 27 05:43 _SUCCESS\r\n",
      "-rw-r--r-- 1 dataengineeringcampjbc dataengineeringcampjbc 9.4M Oct 27 05:43 part-00000-77e73f70-20df-4bb0-9d53-904109e673eb-c000.snappy.parquet\r\n",
      "-rw-r--r-- 1 dataengineeringcampjbc dataengineeringcampjbc 9.4M Oct 27 05:43 part-00001-77e73f70-20df-4bb0-9d53-904109e673eb-c000.snappy.parquet\r\n",
      "-rw-r--r-- 1 dataengineeringcampjbc dataengineeringcampjbc 9.4M Oct 27 05:43 part-00002-77e73f70-20df-4bb0-9d53-904109e673eb-c000.snappy.parquet\r\n",
      "-rw-r--r-- 1 dataengineeringcampjbc dataengineeringcampjbc 9.4M Oct 27 05:43 part-00003-77e73f70-20df-4bb0-9d53-904109e673eb-c000.snappy.parquet\r\n",
      "-rw-r--r-- 1 dataengineeringcampjbc dataengineeringcampjbc 9.4M Oct 27 05:43 part-00004-77e73f70-20df-4bb0-9d53-904109e673eb-c000.snappy.parquet\r\n",
      "-rw-r--r-- 1 dataengineeringcampjbc dataengineeringcampjbc 9.4M Oct 27 05:43 part-00005-77e73f70-20df-4bb0-9d53-904109e673eb-c000.snappy.parquet\r\n",
      "-rw-r--r-- 1 dataengineeringcampjbc dataengineeringcampjbc 9.4M Oct 27 05:43 part-00006-77e73f70-20df-4bb0-9d53-904109e673eb-c000.snappy.parquet\r\n",
      "-rw-r--r-- 1 dataengineeringcampjbc dataengineeringcampjbc 9.4M Oct 27 05:43 part-00007-77e73f70-20df-4bb0-9d53-904109e673eb-c000.snappy.parquet\r\n",
      "-rw-r--r-- 1 dataengineeringcampjbc dataengineeringcampjbc 9.4M Oct 27 05:43 part-00008-77e73f70-20df-4bb0-9d53-904109e673eb-c000.snappy.parquet\r\n",
      "-rw-r--r-- 1 dataengineeringcampjbc dataengineeringcampjbc 9.4M Oct 27 05:43 part-00009-77e73f70-20df-4bb0-9d53-904109e673eb-c000.snappy.parquet\r\n",
      "-rw-r--r-- 1 dataengineeringcampjbc dataengineeringcampjbc 9.4M Oct 27 05:43 part-00010-77e73f70-20df-4bb0-9d53-904109e673eb-c000.snappy.parquet\r\n",
      "-rw-r--r-- 1 dataengineeringcampjbc dataengineeringcampjbc 9.4M Oct 27 05:43 part-00011-77e73f70-20df-4bb0-9d53-904109e673eb-c000.snappy.parquet\r\n",
      "-rw-r--r-- 1 dataengineeringcampjbc dataengineeringcampjbc 9.4M Oct 27 05:43 part-00012-77e73f70-20df-4bb0-9d53-904109e673eb-c000.snappy.parquet\r\n",
      "-rw-r--r-- 1 dataengineeringcampjbc dataengineeringcampjbc 9.4M Oct 27 05:43 part-00013-77e73f70-20df-4bb0-9d53-904109e673eb-c000.snappy.parquet\r\n",
      "-rw-r--r-- 1 dataengineeringcampjbc dataengineeringcampjbc 9.4M Oct 27 05:43 part-00014-77e73f70-20df-4bb0-9d53-904109e673eb-c000.snappy.parquet\r\n",
      "-rw-r--r-- 1 dataengineeringcampjbc dataengineeringcampjbc 9.4M Oct 27 05:43 part-00015-77e73f70-20df-4bb0-9d53-904109e673eb-c000.snappy.parquet\r\n",
      "-rw-r--r-- 1 dataengineeringcampjbc dataengineeringcampjbc 9.4M Oct 27 05:43 part-00016-77e73f70-20df-4bb0-9d53-904109e673eb-c000.snappy.parquet\r\n",
      "-rw-r--r-- 1 dataengineeringcampjbc dataengineeringcampjbc 9.4M Oct 27 05:43 part-00017-77e73f70-20df-4bb0-9d53-904109e673eb-c000.snappy.parquet\r\n",
      "-rw-r--r-- 1 dataengineeringcampjbc dataengineeringcampjbc 9.4M Oct 27 05:43 part-00018-77e73f70-20df-4bb0-9d53-904109e673eb-c000.snappy.parquet\r\n",
      "-rw-r--r-- 1 dataengineeringcampjbc dataengineeringcampjbc 9.4M Oct 27 05:43 part-00019-77e73f70-20df-4bb0-9d53-904109e673eb-c000.snappy.parquet\r\n",
      "-rw-r--r-- 1 dataengineeringcampjbc dataengineeringcampjbc 9.4M Oct 27 05:43 part-00020-77e73f70-20df-4bb0-9d53-904109e673eb-c000.snappy.parquet\r\n",
      "-rw-r--r-- 1 dataengineeringcampjbc dataengineeringcampjbc 9.4M Oct 27 05:43 part-00021-77e73f70-20df-4bb0-9d53-904109e673eb-c000.snappy.parquet\r\n",
      "-rw-r--r-- 1 dataengineeringcampjbc dataengineeringcampjbc 9.4M Oct 27 05:43 part-00022-77e73f70-20df-4bb0-9d53-904109e673eb-c000.snappy.parquet\r\n",
      "-rw-r--r-- 1 dataengineeringcampjbc dataengineeringcampjbc 9.4M Oct 27 05:43 part-00023-77e73f70-20df-4bb0-9d53-904109e673eb-c000.snappy.parquet\r\n"
     ]
    }
   ],
   "source": [
    "!ls -lh fhvhv/2021/01/"
   ]
  },
  {
   "cell_type": "code",
   "execution_count": 4,
   "id": "552f626b",
   "metadata": {},
   "outputs": [
    {
     "name": "stderr",
     "output_type": "stream",
     "text": [
      "\r",
      "[Stage 0:>                                                          (0 + 1) / 1]\r",
      "\r",
      "                                                                                \r"
     ]
    }
   ],
   "source": [
    "df = spark.read.parquet('fhvhv/2021/01/')"
   ]
  },
  {
   "cell_type": "code",
   "execution_count": 5,
   "id": "f4629ce5",
   "metadata": {},
   "outputs": [
    {
     "name": "stdout",
     "output_type": "stream",
     "text": [
      "root\n",
      " |-- hvfhs_license_num: string (nullable = true)\n",
      " |-- dispatching_base_num: string (nullable = true)\n",
      " |-- pickup_datetime: timestamp (nullable = true)\n",
      " |-- dropoff_datetime: timestamp (nullable = true)\n",
      " |-- PULocationID: long (nullable = true)\n",
      " |-- DOLocationID: long (nullable = true)\n",
      " |-- SR_Flag: string (nullable = true)\n",
      "\n"
     ]
    }
   ],
   "source": [
    "df.printSchema()"
   ]
  },
  {
   "cell_type": "code",
   "execution_count": 12,
   "id": "e51fac7b",
   "metadata": {},
   "outputs": [
    {
     "name": "stdout",
     "output_type": "stream",
     "text": [
      "+-----------------+--------------------+-------------------+-------------------+------------+------------+-------+-----------+------------+\n",
      "|hvfhs_license_num|dispatching_base_num|    pickup_datetime|   dropoff_datetime|PULocationID|DOLocationID|SR_Flag|pickup_date|dropoff_date|\n",
      "+-----------------+--------------------+-------------------+-------------------+------------+------------+-------+-----------+------------+\n",
      "|           HV0003|              B02872|2021-01-29 18:41:29|2021-01-29 18:51:44|         256|         256|   null| 2021-01-29|  2021-01-29|\n",
      "|           HV0005|              B02510|2021-01-12 18:39:57|2021-01-12 19:00:30|          61|          76|   null| 2021-01-12|  2021-01-12|\n",
      "|           HV0003|              B02765|2021-01-29 19:25:19|2021-01-29 19:41:49|         113|         262|   null| 2021-01-29|  2021-01-29|\n",
      "|           HV0005|              B02510|2021-01-22 20:08:47|2021-01-22 20:20:16|          22|         227|   null| 2021-01-22|  2021-01-22|\n",
      "|           HV0003|              B02765|2021-01-29 14:13:39|2021-01-29 14:28:50|         198|          95|   null| 2021-01-29|  2021-01-29|\n",
      "|           HV0003|              B02887|2021-01-16 10:11:49|2021-01-16 10:24:02|         235|          41|   null| 2021-01-16|  2021-01-16|\n",
      "|           HV0003|              B02869|2021-01-11 13:04:13|2021-01-11 13:11:39|         138|         223|   null| 2021-01-11|  2021-01-11|\n",
      "|           HV0003|              B02872|2021-01-28 21:54:17|2021-01-28 22:08:09|         155|          89|   null| 2021-01-28|  2021-01-28|\n",
      "|           HV0003|              B02617|2021-01-04 16:43:38|2021-01-04 16:47:48|          26|         227|   null| 2021-01-04|  2021-01-04|\n",
      "|           HV0003|              B02617|2021-01-12 04:57:34|2021-01-12 05:15:53|         221|         172|   null| 2021-01-12|  2021-01-12|\n",
      "|           HV0003|              B02872|2021-01-25 10:11:13|2021-01-25 10:39:33|         258|         181|   null| 2021-01-25|  2021-01-25|\n",
      "|           HV0003|              B02883|2021-01-13 21:32:29|2021-01-13 22:15:28|         140|          72|   null| 2021-01-13|  2021-01-13|\n",
      "|           HV0003|              B02765|2021-01-20 18:16:52|2021-01-20 18:31:39|          49|         217|   null| 2021-01-20|  2021-01-20|\n",
      "|           HV0003|              B02883|2021-01-05 16:54:13|2021-01-05 17:16:26|         169|         159|   null| 2021-01-05|  2021-01-05|\n",
      "|           HV0005|              B02510|2021-01-20 19:39:55|2021-01-20 19:59:26|         235|          69|   null| 2021-01-20|  2021-01-20|\n",
      "|           HV0003|              B02864|2021-01-22 17:37:04|2021-01-22 18:05:14|         146|          37|   null| 2021-01-22|  2021-01-22|\n",
      "|           HV0005|              B02510|2021-01-07 16:05:20|2021-01-07 16:10:16|         165|         165|   null| 2021-01-07|  2021-01-07|\n",
      "|           HV0003|              B02882|2021-01-03 15:11:11|2021-01-03 15:30:16|         243|          24|   null| 2021-01-03|  2021-01-03|\n",
      "|           HV0003|              B02872|2021-01-14 17:18:55|2021-01-14 17:29:45|         239|         262|   null| 2021-01-14|  2021-01-14|\n",
      "|           HV0005|              B02510|2021-01-26 12:07:56|2021-01-26 12:22:40|         170|         249|   null| 2021-01-26|  2021-01-26|\n",
      "+-----------------+--------------------+-------------------+-------------------+------------+------------+-------+-----------+------------+\n",
      "only showing top 20 rows\n",
      "\n"
     ]
    }
   ],
   "source": [
    "df.withColumn('pickup_date',F.to_date(df.pickup_datetime)).withColumn('dropoff_date',F.to_date(df.dropoff_datetime)).show()"
   ]
  },
  {
   "cell_type": "code",
   "execution_count": 8,
   "id": "23e331fb",
   "metadata": {},
   "outputs": [
    {
     "name": "stdout",
     "output_type": "stream",
     "text": [
      "+-------------------+-------------------+------------+------------+\n",
      "|    pickup_datetime|   dropoff_datetime|PULocationID|DOLocationID|\n",
      "+-------------------+-------------------+------------+------------+\n",
      "|2021-01-29 18:41:29|2021-01-29 18:51:44|         256|         256|\n",
      "|2021-01-29 19:25:19|2021-01-29 19:41:49|         113|         262|\n",
      "|2021-01-29 14:13:39|2021-01-29 14:28:50|         198|          95|\n",
      "|2021-01-16 10:11:49|2021-01-16 10:24:02|         235|          41|\n",
      "|2021-01-11 13:04:13|2021-01-11 13:11:39|         138|         223|\n",
      "|2021-01-28 21:54:17|2021-01-28 22:08:09|         155|          89|\n",
      "|2021-01-04 16:43:38|2021-01-04 16:47:48|          26|         227|\n",
      "|2021-01-12 04:57:34|2021-01-12 05:15:53|         221|         172|\n",
      "|2021-01-25 10:11:13|2021-01-25 10:39:33|         258|         181|\n",
      "|2021-01-13 21:32:29|2021-01-13 22:15:28|         140|          72|\n",
      "|2021-01-20 18:16:52|2021-01-20 18:31:39|          49|         217|\n",
      "|2021-01-05 16:54:13|2021-01-05 17:16:26|         169|         159|\n",
      "|2021-01-22 17:37:04|2021-01-22 18:05:14|         146|          37|\n",
      "|2021-01-03 15:11:11|2021-01-03 15:30:16|         243|          24|\n",
      "|2021-01-14 17:18:55|2021-01-14 17:29:45|         239|         262|\n",
      "|2021-01-12 21:23:28|2021-01-12 21:34:01|          37|          36|\n",
      "|2021-01-29 17:56:31|2021-01-29 18:03:10|          39|          39|\n",
      "|2021-01-15 08:29:15|2021-01-15 08:40:39|         133|          89|\n",
      "|2021-01-16 22:36:46|2021-01-16 22:48:45|          91|          35|\n",
      "|2021-01-22 17:01:26|2021-01-22 17:30:26|          69|         243|\n",
      "+-------------------+-------------------+------------+------------+\n",
      "only showing top 20 rows\n",
      "\n"
     ]
    }
   ],
   "source": [
    "df.select('pickup_datetime','dropoff_datetime','PULocationID','DOLocationID').filter(df.hvfhs_license_num == 'HV0003').show()"
   ]
  },
  {
   "cell_type": "code",
   "execution_count": 14,
   "id": "99b72a51",
   "metadata": {},
   "outputs": [],
   "source": [
    "def crazy_stuff(base_num):\n",
    "    num = int(base_num[1:])\n",
    "    if num % 7 == 0:\n",
    "        return f's/{num:03x}'\n",
    "    elif num % 3 == 0:\n",
    "        return f'a/{num:03x}'\n",
    "    else:\n",
    "        return f'e/{num:03x}'"
   ]
  },
  {
   "cell_type": "code",
   "execution_count": 17,
   "id": "df3f2318",
   "metadata": {},
   "outputs": [],
   "source": [
    "crazy_stuff_udf=F.udf(crazy_stuff, returnType=types.StringType())"
   ]
  },
  {
   "cell_type": "code",
   "execution_count": 20,
   "id": "58cd9c86",
   "metadata": {},
   "outputs": [
    {
     "name": "stdout",
     "output_type": "stream",
     "text": [
      "+-------+-----------+------------+------------+------------+\n",
      "|base_id|pickup_date|dropoff_date|PULocationID|DOLocationID|\n",
      "+-------+-----------+------------+------------+------------+\n",
      "|  e/b38| 2021-01-29|  2021-01-29|         256|         256|\n",
      "|  e/9ce| 2021-01-12|  2021-01-12|          61|          76|\n",
      "|  s/acd| 2021-01-29|  2021-01-29|         113|         262|\n",
      "|  e/9ce| 2021-01-22|  2021-01-22|          22|         227|\n",
      "|  s/acd| 2021-01-29|  2021-01-29|         198|          95|\n",
      "|  e/b47| 2021-01-16|  2021-01-16|         235|          41|\n",
      "|  e/b35| 2021-01-11|  2021-01-11|         138|         223|\n",
      "|  e/b38| 2021-01-28|  2021-01-28|         155|          89|\n",
      "|  e/a39| 2021-01-04|  2021-01-04|          26|         227|\n",
      "|  e/a39| 2021-01-12|  2021-01-12|         221|         172|\n",
      "|  e/b38| 2021-01-25|  2021-01-25|         258|         181|\n",
      "|  a/b43| 2021-01-13|  2021-01-13|         140|          72|\n",
      "|  s/acd| 2021-01-20|  2021-01-20|          49|         217|\n",
      "|  a/b43| 2021-01-05|  2021-01-05|         169|         159|\n",
      "|  e/9ce| 2021-01-20|  2021-01-20|         235|          69|\n",
      "|  e/b30| 2021-01-22|  2021-01-22|         146|          37|\n",
      "|  e/9ce| 2021-01-07|  2021-01-07|         165|         165|\n",
      "|  e/b42| 2021-01-03|  2021-01-03|         243|          24|\n",
      "|  e/b38| 2021-01-14|  2021-01-14|         239|         262|\n",
      "|  e/9ce| 2021-01-26|  2021-01-26|         170|         249|\n",
      "+-------+-----------+------------+------------+------------+\n",
      "only showing top 20 rows\n",
      "\n"
     ]
    },
    {
     "name": "stderr",
     "output_type": "stream",
     "text": [
      "\r",
      "[Stage 3:>                                                          (0 + 1) / 1]\r",
      "\r",
      "                                                                                \r"
     ]
    }
   ],
   "source": [
    "df.withColumn('pickup_date',F.to_date(df.pickup_datetime)).withColumn('dropoff_date',F.to_date(df.dropoff_datetime)) \\\n",
    ".withColumn('base_id',crazy_stuff_udf(df.dispatching_base_num)) \\\n",
    ".select(\"base_id\",'pickup_date','dropoff_date','PULocationID','DOLocationID') \\\n",
    ".show()"
   ]
  },
  {
   "cell_type": "code",
   "execution_count": null,
   "id": "ced98b09",
   "metadata": {},
   "outputs": [],
   "source": []
  }
 ],
 "metadata": {
  "kernelspec": {
   "display_name": "Python 3 (ipykernel)",
   "language": "python",
   "name": "python3"
  },
  "language_info": {
   "codemirror_mode": {
    "name": "ipython",
    "version": 3
   },
   "file_extension": ".py",
   "mimetype": "text/x-python",
   "name": "python",
   "nbconvert_exporter": "python",
   "pygments_lexer": "ipython3",
   "version": "3.9.12"
  }
 },
 "nbformat": 4,
 "nbformat_minor": 5
}
