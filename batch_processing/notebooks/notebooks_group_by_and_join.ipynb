{
 "cells": [
  {
   "cell_type": "code",
   "execution_count": 1,
   "id": "f4a7c7ff",
   "metadata": {},
   "outputs": [],
   "source": [
    "import pyspark\n",
    "from pyspark.sql import SparkSession\n",
    "from pyspark.sql import functions as F"
   ]
  },
  {
   "cell_type": "code",
   "execution_count": 2,
   "id": "4ba3d287",
   "metadata": {},
   "outputs": [
    {
     "name": "stderr",
     "output_type": "stream",
     "text": [
      "Setting default log level to \"WARN\".\n",
      "To adjust logging level use sc.setLogLevel(newLevel). For SparkR, use setLogLevel(newLevel).\n"
     ]
    },
    {
     "name": "stdout",
     "output_type": "stream",
     "text": [
      "22/11/11 06:09:25 WARN NativeCodeLoader: Unable to load native-hadoop library for your platform... using builtin-java classes where applicable\n"
     ]
    }
   ],
   "source": [
    "spark = SparkSession.builder \\\n",
    "    .master(\"local[*]\") \\\n",
    "    .appName('test') \\\n",
    "    .getOrCreate()"
   ]
  },
  {
   "cell_type": "code",
   "execution_count": 3,
   "id": "054399c4",
   "metadata": {},
   "outputs": [
    {
     "name": "stderr",
     "output_type": "stream",
     "text": [
      "\r",
      "[Stage 0:>                                                          (0 + 1) / 1]\r",
      "\r",
      "                                                                                \r"
     ]
    }
   ],
   "source": [
    "df_green=spark.read.parquet('../data/part/green/*/*')"
   ]
  },
  {
   "cell_type": "code",
   "execution_count": 4,
   "id": "f7681f3d",
   "metadata": {},
   "outputs": [],
   "source": [
    "df_green.createOrReplaceTempView('green')"
   ]
  },
  {
   "cell_type": "code",
   "execution_count": 5,
   "id": "24dd1033",
   "metadata": {},
   "outputs": [],
   "source": [
    "df_green_revenue = spark.sql(\"\"\"\n",
    "SELECT \n",
    "    -- Reveneue grouping \n",
    "    PULocationID AS zone,\n",
    "    date_trunc('hour', lpep_pickup_datetime) AS hour, \n",
    "    SUM(total_amount) AS amount,\n",
    "    COUNT(1) AS number_records\n",
    "FROM\n",
    "    green\n",
    "GROUP BY\n",
    "    1, 2\n",
    "\"\"\")\n"
   ]
  },
  {
   "cell_type": "code",
   "execution_count": 6,
   "id": "c8e3b199",
   "metadata": {},
   "outputs": [
    {
     "name": "stderr",
     "output_type": "stream",
     "text": [
      "[Stage 1:============================================>              (3 + 1) / 4]\r"
     ]
    },
    {
     "name": "stdout",
     "output_type": "stream",
     "text": [
      "+----+-------------------+------------------+--------------+\n",
      "|zone|               hour|            amount|number_records|\n",
      "+----+-------------------+------------------+--------------+\n",
      "|   7|2020-01-01 17:00:00|357.84000000000015|            28|\n",
      "| 127|2020-01-02 06:00:00|             92.16|             2|\n",
      "|  65|2020-01-21 23:00:00|            147.64|            10|\n",
      "| 228|2020-01-09 12:00:00|235.15000000000003|            11|\n",
      "|  66|2020-01-26 21:00:00|             80.83|             5|\n",
      "|  75|2020-01-23 23:00:00|394.58000000000015|            25|\n",
      "|  42|2020-01-07 23:00:00|            147.55|            10|\n",
      "|  83|2020-01-19 00:00:00|             76.91|             6|\n",
      "| 130|2020-01-17 13:00:00|200.17000000000002|            10|\n",
      "|  95|2020-01-17 07:00:00|            246.16|            14|\n",
      "| 152|2020-01-12 09:00:00|            136.09|             6|\n",
      "|  95|2020-01-28 12:00:00|428.55000000000007|            25|\n",
      "| 210|2020-01-10 21:00:00|            156.28|             6|\n",
      "|  74|2020-01-30 17:00:00| 1070.569999999999|            70|\n",
      "|  75|2020-01-16 22:00:00| 335.6200000000001|            29|\n",
      "|  32|2020-01-16 12:00:00|             52.85|             2|\n",
      "| 193|2020-01-10 18:00:00|            215.43|            15|\n",
      "|  52|2020-01-27 22:00:00|               8.5|             1|\n",
      "| 235|2020-01-17 07:00:00|56.519999999999996|             2|\n",
      "| 129|2020-01-31 22:00:00| 295.2100000000001|            17|\n",
      "+----+-------------------+------------------+--------------+\n",
      "only showing top 20 rows\n",
      "\n"
     ]
    },
    {
     "name": "stderr",
     "output_type": "stream",
     "text": [
      "\r",
      "                                                                                \r"
     ]
    }
   ],
   "source": [
    "df_green_revenue.show()"
   ]
  },
  {
   "cell_type": "code",
   "execution_count": 7,
   "id": "22835cdc",
   "metadata": {},
   "outputs": [
    {
     "name": "stderr",
     "output_type": "stream",
     "text": [
      "                                                                                \r"
     ]
    }
   ],
   "source": [
    "df_green_revenue.write.parquet('../data/report/revenue/green', mode='overwrite')"
   ]
  },
  {
   "cell_type": "code",
   "execution_count": 8,
   "id": "e726bcd4",
   "metadata": {},
   "outputs": [],
   "source": [
    "df_yellow=spark.read.parquet('../data/part/yellow/*/*')"
   ]
  },
  {
   "cell_type": "code",
   "execution_count": 9,
   "id": "fdd7daa8",
   "metadata": {},
   "outputs": [],
   "source": [
    "df_yellow.createOrReplaceTempView('yellow')"
   ]
  },
  {
   "cell_type": "code",
   "execution_count": 10,
   "id": "61e3bfd4",
   "metadata": {},
   "outputs": [],
   "source": [
    "df_yellow_revenue = spark.sql(\"\"\"\n",
    "SELECT \n",
    "    -- Reveneue grouping \n",
    "    PULocationID AS zone,\n",
    "    date_trunc('hour', tpep_pickup_datetime) AS hour, \n",
    "    SUM(total_amount) AS amount,\n",
    "    COUNT(1) AS number_records\n",
    "FROM\n",
    "    yellow\n",
    "GROUP BY\n",
    "    1, 2\n",
    "\"\"\")"
   ]
  },
  {
   "cell_type": "code",
   "execution_count": 11,
   "id": "73657215",
   "metadata": {},
   "outputs": [
    {
     "name": "stderr",
     "output_type": "stream",
     "text": [
      "                                                                                \r"
     ]
    }
   ],
   "source": [
    "df_yellow_revenue.write.parquet('../data/report/revenue/yellow', mode='overwrite')"
   ]
  },
  {
   "cell_type": "code",
   "execution_count": 15,
   "id": "5c32b3b3",
   "metadata": {},
   "outputs": [],
   "source": [
    "df_green_revenue_tmp=df_green_revenue.withColumnRenamed('amount', 'green_amount').withColumnRenamed('number_records','green_number_records')\n",
    "\n",
    "df_yellow_revenue_tmp=df_yellow_revenue.withColumnRenamed('amount', 'yellow_amount').withColumnRenamed('number_records','yellow_number_records')"
   ]
  },
  {
   "cell_type": "code",
   "execution_count": 20,
   "id": "aca8c144",
   "metadata": {},
   "outputs": [],
   "source": [
    "df_join = df_green_revenue_tmp.join(df_yellow_revenue_tmp, on=['hour','zone'], how='outer')"
   ]
  },
  {
   "cell_type": "code",
   "execution_count": 22,
   "id": "06d6846a",
   "metadata": {},
   "outputs": [
    {
     "name": "stderr",
     "output_type": "stream",
     "text": [
      "                                                                                \r"
     ]
    }
   ],
   "source": [
    "df_join.write.parquet('../data/report/revenue/total', mode='overwrite')"
   ]
  },
  {
   "cell_type": "code",
   "execution_count": 23,
   "id": "38c3df9e",
   "metadata": {},
   "outputs": [
    {
     "name": "stderr",
     "output_type": "stream",
     "text": [
      "[Stage 27:====================================================>   (15 + 1) / 16]\r"
     ]
    },
    {
     "name": "stdout",
     "output_type": "stream",
     "text": [
      "+-------------------+----+------------+--------------------+------------------+---------------------+\n",
      "|               hour|zone|green_amount|green_number_records|     yellow_amount|yellow_number_records|\n",
      "+-------------------+----+------------+--------------------+------------------+---------------------+\n",
      "|2020-01-01 04:00:00|   1|        null|                null|              94.8|                    1|\n",
      "|2020-01-01 08:00:00|   1|        null|                null|              60.8|                    1|\n",
      "|2020-01-01 11:00:00|   1|        null|                null|              90.3|                    1|\n",
      "|2020-01-01 12:00:00|   1|        null|                null|            266.66|                    3|\n",
      "|2020-01-01 13:00:00|   1|        null|                null|            213.36|                    2|\n",
      "|2020-01-01 20:00:00|   1|        null|                null|             96.96|                    3|\n",
      "|2020-01-02 15:00:00|   1|        null|                null|246.60000000000002|                    2|\n",
      "|2020-01-02 17:00:00|   1|        null|                null|           1168.39|                   10|\n",
      "|2020-01-03 05:00:00|   1|      117.39|                   1|             100.1|                    1|\n",
      "|2020-01-03 06:00:00|   1|        null|                null|            174.36|                    1|\n",
      "|2020-01-03 14:00:00|   1|        null|                null|            447.39|                    5|\n",
      "|2020-01-03 18:00:00|   1|        null|                null|            226.26|                    2|\n",
      "|2020-01-04 15:00:00|   1|        null|                null|460.06000000000006|                    6|\n",
      "|2020-01-04 17:00:00|   1|        null|                null|              94.3|                    1|\n",
      "|2020-01-06 10:00:00|   1|        null|                null|            397.26|                    2|\n",
      "|2020-01-06 11:00:00|   1|        null|                null|            290.85|                    2|\n",
      "|2020-01-06 15:00:00|   1|        null|                null|             100.3|                    1|\n",
      "|2020-01-08 08:00:00|   1|        null|                null|             95.31|                    2|\n",
      "|2020-01-08 11:00:00|   1|        null|                null|            296.74|                    2|\n",
      "|2020-01-08 12:00:00|   1|        null|                null|249.85999999999999|                    2|\n",
      "+-------------------+----+------------+--------------------+------------------+---------------------+\n",
      "only showing top 20 rows\n",
      "\n"
     ]
    },
    {
     "name": "stderr",
     "output_type": "stream",
     "text": [
      "\r",
      "[Stage 30:>                                                         (0 + 1) / 1]\r",
      "\r",
      "                                                                                \r"
     ]
    }
   ],
   "source": [
    "df_join.show()"
   ]
  },
  {
   "cell_type": "code",
   "execution_count": 24,
   "id": "45076c61",
   "metadata": {},
   "outputs": [],
   "source": [
    "df_join = spark.read.parquet('../data/report/revenue/total')"
   ]
  },
  {
   "cell_type": "code",
   "execution_count": 25,
   "id": "07f80961",
   "metadata": {},
   "outputs": [],
   "source": [
    "df_zones = spark.read.parquet('zones')"
   ]
  },
  {
   "cell_type": "code",
   "execution_count": 26,
   "id": "35226b82",
   "metadata": {},
   "outputs": [
    {
     "name": "stdout",
     "output_type": "stream",
     "text": [
      "+----------+-------------+--------------------+------------+\n",
      "|LocationID|      Borough|                Zone|service_zone|\n",
      "+----------+-------------+--------------------+------------+\n",
      "|         1|          EWR|      Newark Airport|         EWR|\n",
      "|         2|       Queens|         Jamaica Bay|   Boro Zone|\n",
      "|         3|        Bronx|Allerton/Pelham G...|   Boro Zone|\n",
      "|         4|    Manhattan|       Alphabet City| Yellow Zone|\n",
      "|         5|Staten Island|       Arden Heights|   Boro Zone|\n",
      "|         6|Staten Island|Arrochar/Fort Wad...|   Boro Zone|\n",
      "|         7|       Queens|             Astoria|   Boro Zone|\n",
      "|         8|       Queens|        Astoria Park|   Boro Zone|\n",
      "|         9|       Queens|          Auburndale|   Boro Zone|\n",
      "|        10|       Queens|        Baisley Park|   Boro Zone|\n",
      "|        11|     Brooklyn|          Bath Beach|   Boro Zone|\n",
      "|        12|    Manhattan|        Battery Park| Yellow Zone|\n",
      "|        13|    Manhattan|   Battery Park City| Yellow Zone|\n",
      "|        14|     Brooklyn|           Bay Ridge|   Boro Zone|\n",
      "|        15|       Queens|Bay Terrace/Fort ...|   Boro Zone|\n",
      "|        16|       Queens|             Bayside|   Boro Zone|\n",
      "|        17|     Brooklyn|             Bedford|   Boro Zone|\n",
      "|        18|        Bronx|        Bedford Park|   Boro Zone|\n",
      "|        19|       Queens|           Bellerose|   Boro Zone|\n",
      "|        20|        Bronx|             Belmont|   Boro Zone|\n",
      "+----------+-------------+--------------------+------------+\n",
      "only showing top 20 rows\n",
      "\n"
     ]
    }
   ],
   "source": [
    "df_zones.show()"
   ]
  },
  {
   "cell_type": "code",
   "execution_count": 28,
   "id": "da3608ac",
   "metadata": {},
   "outputs": [],
   "source": [
    "df_result=df_join.join(df_zones,df_join.zone == df_zones.LocationID)"
   ]
  },
  {
   "cell_type": "code",
   "execution_count": 30,
   "id": "587d6fd3",
   "metadata": {},
   "outputs": [
    {
     "name": "stderr",
     "output_type": "stream",
     "text": [
      "                                                                                \r"
     ]
    }
   ],
   "source": [
    "df_result.drop('LocationID','zone').write.parquet('tmp/revenue-zones')"
   ]
  },
  {
   "cell_type": "code",
   "execution_count": null,
   "id": "d68cc7b8",
   "metadata": {},
   "outputs": [],
   "source": []
  }
 ],
 "metadata": {
  "kernelspec": {
   "display_name": "Python 3 (ipykernel)",
   "language": "python",
   "name": "python3"
  },
  "language_info": {
   "codemirror_mode": {
    "name": "ipython",
    "version": 3
   },
   "file_extension": ".py",
   "mimetype": "text/x-python",
   "name": "python",
   "nbconvert_exporter": "python",
   "pygments_lexer": "ipython3",
   "version": "3.8.10"
  }
 },
 "nbformat": 4,
 "nbformat_minor": 5
}
